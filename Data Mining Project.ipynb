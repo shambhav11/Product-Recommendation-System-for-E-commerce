{
 "cells": [
  {
   "cell_type": "code",
   "execution_count": 1,
   "metadata": {},
   "outputs": [],
   "source": [
    "import numpy as np\n",
    "import pandas as pd\n",
    "import matplotlib.pyplot as plt\n",
    "import sklearn\n",
    "import seaborn as sns\n",
    "from sklearn.decomposition import TruncatedSVD\n",
    "from surprise import KNNWithMeans\n",
    "from surprise import Dataset\n",
    "from surprise import accuracy\n",
    "from surprise import Reader\n",
    "from surprise.model_selection import train_test_split"
   ]
  },
  {
   "cell_type": "code",
   "execution_count": null,
   "metadata": {},
   "outputs": [],
   "source": []
  },
  {
   "cell_type": "code",
   "execution_count": 2,
   "metadata": {},
   "outputs": [],
   "source": [
    "ratings_data=pd.read_csv(\"ratings_Clothing_Shoes_and_Jewelry.csv\",names=['userId', 'productId','Rating','timestamp'])\n",
    "ratings_data.drop(['timestamp'], axis=1,inplace=True)"
   ]
  },
  {
   "cell_type": "code",
   "execution_count": 3,
   "metadata": {},
   "outputs": [
    {
     "data": {
      "text/html": [
       "<div>\n",
       "<style scoped>\n",
       "    .dataframe tbody tr th:only-of-type {\n",
       "        vertical-align: middle;\n",
       "    }\n",
       "\n",
       "    .dataframe tbody tr th {\n",
       "        vertical-align: top;\n",
       "    }\n",
       "\n",
       "    .dataframe thead th {\n",
       "        text-align: right;\n",
       "    }\n",
       "</style>\n",
       "<table border=\"1\" class=\"dataframe\">\n",
       "  <thead>\n",
       "    <tr style=\"text-align: right;\">\n",
       "      <th></th>\n",
       "      <th>userId</th>\n",
       "      <th>productId</th>\n",
       "      <th>Rating</th>\n",
       "    </tr>\n",
       "  </thead>\n",
       "  <tbody>\n",
       "    <tr>\n",
       "      <th>0</th>\n",
       "      <td>A2XVJBSRI3SWDI</td>\n",
       "      <td>0000031887</td>\n",
       "      <td>5.0</td>\n",
       "    </tr>\n",
       "    <tr>\n",
       "      <th>1</th>\n",
       "      <td>A2G0LNLN79Q6HR</td>\n",
       "      <td>0000031887</td>\n",
       "      <td>4.0</td>\n",
       "    </tr>\n",
       "    <tr>\n",
       "      <th>2</th>\n",
       "      <td>A2R3K1KX09QBYP</td>\n",
       "      <td>0000031887</td>\n",
       "      <td>2.0</td>\n",
       "    </tr>\n",
       "    <tr>\n",
       "      <th>3</th>\n",
       "      <td>A19PBP93OF896</td>\n",
       "      <td>0000031887</td>\n",
       "      <td>1.0</td>\n",
       "    </tr>\n",
       "    <tr>\n",
       "      <th>4</th>\n",
       "      <td>A1P0IHU93EF9ZK</td>\n",
       "      <td>0000031887</td>\n",
       "      <td>4.0</td>\n",
       "    </tr>\n",
       "    <tr>\n",
       "      <th>5</th>\n",
       "      <td>A3Q6CTO56DJ8UZ</td>\n",
       "      <td>0000031887</td>\n",
       "      <td>4.0</td>\n",
       "    </tr>\n",
       "    <tr>\n",
       "      <th>6</th>\n",
       "      <td>A1KLRMWW2FWPL4</td>\n",
       "      <td>0000031887</td>\n",
       "      <td>5.0</td>\n",
       "    </tr>\n",
       "    <tr>\n",
       "      <th>7</th>\n",
       "      <td>A1GQPAM8Y45QN7</td>\n",
       "      <td>0000031887</td>\n",
       "      <td>5.0</td>\n",
       "    </tr>\n",
       "    <tr>\n",
       "      <th>8</th>\n",
       "      <td>A2G5TCU2WDFZ65</td>\n",
       "      <td>0000031887</td>\n",
       "      <td>5.0</td>\n",
       "    </tr>\n",
       "    <tr>\n",
       "      <th>9</th>\n",
       "      <td>AEAN37KUOYSX4</td>\n",
       "      <td>0000031887</td>\n",
       "      <td>5.0</td>\n",
       "    </tr>\n",
       "    <tr>\n",
       "      <th>10</th>\n",
       "      <td>A1MCJONUQ78L9T</td>\n",
       "      <td>0000031887</td>\n",
       "      <td>5.0</td>\n",
       "    </tr>\n",
       "    <tr>\n",
       "      <th>11</th>\n",
       "      <td>A2QEODSEIT1ME2</td>\n",
       "      <td>0000031887</td>\n",
       "      <td>5.0</td>\n",
       "    </tr>\n",
       "    <tr>\n",
       "      <th>12</th>\n",
       "      <td>A2PSIVW9I3TGHD</td>\n",
       "      <td>0000031887</td>\n",
       "      <td>4.0</td>\n",
       "    </tr>\n",
       "    <tr>\n",
       "      <th>13</th>\n",
       "      <td>A3CHBY0CB0O7PP</td>\n",
       "      <td>0000031887</td>\n",
       "      <td>5.0</td>\n",
       "    </tr>\n",
       "    <tr>\n",
       "      <th>14</th>\n",
       "      <td>AAE8WBNKHQPL5</td>\n",
       "      <td>0000031887</td>\n",
       "      <td>5.0</td>\n",
       "    </tr>\n",
       "  </tbody>\n",
       "</table>\n",
       "</div>"
      ],
      "text/plain": [
       "            userId   productId  Rating\n",
       "0   A2XVJBSRI3SWDI  0000031887     5.0\n",
       "1   A2G0LNLN79Q6HR  0000031887     4.0\n",
       "2   A2R3K1KX09QBYP  0000031887     2.0\n",
       "3    A19PBP93OF896  0000031887     1.0\n",
       "4   A1P0IHU93EF9ZK  0000031887     4.0\n",
       "5   A3Q6CTO56DJ8UZ  0000031887     4.0\n",
       "6   A1KLRMWW2FWPL4  0000031887     5.0\n",
       "7   A1GQPAM8Y45QN7  0000031887     5.0\n",
       "8   A2G5TCU2WDFZ65  0000031887     5.0\n",
       "9    AEAN37KUOYSX4  0000031887     5.0\n",
       "10  A1MCJONUQ78L9T  0000031887     5.0\n",
       "11  A2QEODSEIT1ME2  0000031887     5.0\n",
       "12  A2PSIVW9I3TGHD  0000031887     4.0\n",
       "13  A3CHBY0CB0O7PP  0000031887     5.0\n",
       "14   AAE8WBNKHQPL5  0000031887     5.0"
      ]
     },
     "execution_count": 3,
     "metadata": {},
     "output_type": "execute_result"
    }
   ],
   "source": [
    "ratings_data.head(15)"
   ]
  },
  {
   "cell_type": "code",
   "execution_count": 4,
   "metadata": {},
   "outputs": [
    {
     "data": {
      "text/plain": [
       "(5748920, 3)"
      ]
     },
     "execution_count": 4,
     "metadata": {},
     "output_type": "execute_result"
    }
   ],
   "source": [
    "ratings_data.shape"
   ]
  },
  {
   "cell_type": "code",
   "execution_count": 5,
   "metadata": {},
   "outputs": [
    {
     "name": "stdout",
     "output_type": "stream",
     "text": [
      "<class 'pandas.core.frame.DataFrame'>\n",
      "RangeIndex: 5748920 entries, 0 to 5748919\n",
      "Data columns (total 3 columns):\n",
      "userId       object\n",
      "productId    object\n",
      "Rating       float64\n",
      "dtypes: float64(1), object(2)\n",
      "memory usage: 131.6+ MB\n"
     ]
    }
   ],
   "source": [
    "ratings_data.info()"
   ]
  },
  {
   "cell_type": "code",
   "execution_count": 6,
   "metadata": {},
   "outputs": [
    {
     "data": {
      "text/plain": [
       "count    5.748920e+06\n",
       "mean     4.144679e+00\n",
       "std      1.233103e+00\n",
       "min      1.000000e+00\n",
       "25%      4.000000e+00\n",
       "50%      5.000000e+00\n",
       "75%      5.000000e+00\n",
       "max      5.000000e+00\n",
       "Name: Rating, dtype: float64"
      ]
     },
     "execution_count": 6,
     "metadata": {},
     "output_type": "execute_result"
    }
   ],
   "source": [
    "ratings_data.describe()['Rating'].T"
   ]
  },
  {
   "cell_type": "code",
   "execution_count": 7,
   "metadata": {},
   "outputs": [
    {
     "data": {
      "text/plain": [
       "{'whiskers': [<matplotlib.lines.Line2D at 0x215002df828>,\n",
       "  <matplotlib.lines.Line2D at 0x215002dfb70>],\n",
       " 'caps': [<matplotlib.lines.Line2D at 0x215002dfeb8>,\n",
       "  <matplotlib.lines.Line2D at 0x215002dff98>],\n",
       " 'boxes': [<matplotlib.lines.Line2D at 0x215002df400>],\n",
       " 'medians': [<matplotlib.lines.Line2D at 0x215002f1588>],\n",
       " 'fliers': [<matplotlib.lines.Line2D at 0x215002f18d0>],\n",
       " 'means': []}"
      ]
     },
     "execution_count": 7,
     "metadata": {},
     "output_type": "execute_result"
    },
    {
     "data": {
      "image/png": "[encoded data removed]",
      "text/plain": [
       "<Figure size 432x288 with 1 Axes>"
      ]
     },
     "metadata": {
      "needs_background": "light"
     },
     "output_type": "display_data"
    }
   ],
   "source": [
    "plt.boxplot(ratings_data['Rating'])"
   ]
  },
  {
   "cell_type": "code",
   "execution_count": 8,
   "metadata": {},
   "outputs": [
    {
     "data": {
      "text/plain": [
       "userId       0\n",
       "productId    0\n",
       "Rating       0\n",
       "dtype: int64"
      ]
     },
     "execution_count": 8,
     "metadata": {},
     "output_type": "execute_result"
    }
   ],
   "source": [
    "ratings_data.isnull().sum()"
   ]
  },
  {
   "cell_type": "code",
   "execution_count": 9,
   "metadata": {},
   "outputs": [
    {
     "data": {
      "image/png": "[encoded data removed]",
      "text/plain": [
       "<Figure size 360x360 with 1 Axes>"
      ]
     },
     "metadata": {},
     "output_type": "display_data"
    }
   ],
   "source": [
    "with sns.axes_style('darkgrid'):\n",
    "    rating_plot = sns.catplot(\"Rating\", data=ratings_data, kind='count')\n",
    "    rating_plot.set_ylabels(\"Total number of ratings\")"
   ]
  },
  {
   "cell_type": "code",
   "execution_count": 10,
   "metadata": {},
   "outputs": [
    {
     "name": "stdout",
     "output_type": "stream",
     "text": [
      "Total no of ratings : 5748920\n",
      "Total No of unique users   : 3117268\n",
      "Total No of unique products  : 1136004\n"
     ]
    }
   ],
   "source": [
    "print(\"Total no of ratings :\",ratings_data.shape[0])\n",
    "print(\"Total No of unique users   :\", len(np.unique(ratings_data.userId)))\n",
    "print(\"Total No of unique products  :\", len(np.unique(ratings_data.productId)))"
   ]
  },
  {
   "cell_type": "code",
   "execution_count": 11,
   "metadata": {},
   "outputs": [
    {
     "data": {
      "text/plain": [
       "userId\n",
       "A3W4D8XOGLWUN5    349\n",
       "A5QQRB2QOY96U     289\n",
       "A2KBV88FL48CFS    278\n",
       "A1Z4LX3Q1YMF84    274\n",
       "A1RRMZKOMZ2M7J    259\n",
       "A2J4XMWKR8PPD0    256\n",
       "A2EA0JE6LV4BXH    249\n",
       "A2GA55P7WGHJCP    240\n",
       "A1XQ0F01CF84Y3    225\n",
       "A29BPMJI0ZYH4H    197\n",
       "Name: Rating, dtype: int64"
      ]
     },
     "execution_count": 11,
     "metadata": {},
     "output_type": "execute_result"
    }
   ],
   "source": [
    "user_diversity_scan= ratings_data.groupby(by='userId')['Rating'].count().sort_values(ascending=False)\n",
    "\n",
    "user_diversity_scan.head(10)"
   ]
  },
  {
   "cell_type": "code",
   "execution_count": 12,
   "metadata": {},
   "outputs": [
    {
     "data": {
      "text/plain": [
       "userId\n",
       "A39NIYCJLGWPQ            1\n",
       "A39NIPDP99E6BO           1\n",
       "A39NIL48689N78           1\n",
       "A39NIIUZYLV875           1\n",
       "A39NIHHIV1YB5I           1\n",
       "A39NI5DLRB306C           1\n",
       "A39NI4NAMU8Q90           1\n",
       "A39NI0FS63CQ28           1\n",
       "A39NHWRT04N6KQ           1\n",
       "A000008615DZQRRI946FO    1\n",
       "Name: Rating, dtype: int64"
      ]
     },
     "execution_count": 12,
     "metadata": {},
     "output_type": "execute_result"
    }
   ],
   "source": [
    "user_diversity_scan.tail(10)"
   ]
  },
  {
   "cell_type": "code",
   "execution_count": 13,
   "metadata": {},
   "outputs": [
    {
     "data": {
      "text/plain": [
       "count    3.117268e+06\n",
       "mean     1.844217e+00\n",
       "std      2.448089e+00\n",
       "min      1.000000e+00\n",
       "25%      1.000000e+00\n",
       "50%      1.000000e+00\n",
       "75%      2.000000e+00\n",
       "max      3.490000e+02\n",
       "Name: Rating, dtype: float64"
      ]
     },
     "execution_count": 13,
     "metadata": {},
     "output_type": "execute_result"
    }
   ],
   "source": [
    "user_diversity_scan.describe()"
   ]
  },
  {
   "cell_type": "code",
   "execution_count": 14,
   "metadata": {},
   "outputs": [
    {
     "name": "stdout",
     "output_type": "stream",
     "text": [
      " No of users who rated more than 100 items : 69\n"
     ]
    }
   ],
   "source": [
    "print(' No of users who rated more than 100 items : {}'.format(sum(user_diversity_scan >= 100)))"
   ]
  },
  {
   "cell_type": "code",
   "execution_count": 15,
   "metadata": {},
   "outputs": [
    {
     "data": {
      "text/plain": [
       "productId\n",
       "B0058XIMMM    3047\n",
       "B000FBO0DM    2836\n",
       "B000NZW3J8    2797\n",
       "B005LERHD8    2781\n",
       "B006PGGJOE    2773\n",
       "B000T9VK56    2685\n",
       "B00012O12A    2214\n",
       "B0000C321X    2105\n",
       "B000O32MLI    2057\n",
       "B000XDDERK    1861\n",
       "Name: Rating, dtype: int64"
      ]
     },
     "execution_count": 15,
     "metadata": {},
     "output_type": "execute_result"
    }
   ],
   "source": [
    "product_popularity_scan= ratings_data.groupby(by='productId')['Rating'].count().sort_values(ascending=False)\n",
    "\n",
    "product_popularity_scan.head(10)"
   ]
  },
  {
   "cell_type": "code",
   "execution_count": 16,
   "metadata": {},
   "outputs": [
    {
     "data": {
      "text/plain": [
       "count    1.136004e+06\n",
       "mean     5.060651e+00\n",
       "std      2.326025e+01\n",
       "min      1.000000e+00\n",
       "25%      1.000000e+00\n",
       "50%      1.000000e+00\n",
       "75%      3.000000e+00\n",
       "max      3.047000e+03\n",
       "Name: Rating, dtype: float64"
      ]
     },
     "execution_count": 16,
     "metadata": {},
     "output_type": "execute_result"
    }
   ],
   "source": [
    "product_popularity_scan.describe()"
   ]
  },
  {
   "cell_type": "code",
   "execution_count": 17,
   "metadata": {},
   "outputs": [
    {
     "data": {
      "text/plain": [
       "<matplotlib.axes._subplots.AxesSubplot at 0x215340d7710>"
      ]
     },
     "execution_count": 17,
     "metadata": {},
     "output_type": "execute_result"
    },
    {
     "data": {
      "image/png": "[encoded data removed]",
      "text/plain": [
       "<Figure size 432x288 with 1 Axes>"
      ]
     },
     "metadata": {
      "needs_background": "light"
     },
     "output_type": "display_data"
    }
   ],
   "source": [
    "maximum_rated_products = pd.DataFrame(ratings_data.groupby('productId')['Rating'].count())\n",
    "popularity_based_recommendations = maximum_rated_products.sort_values('Rating', ascending=False)\n",
    "popularity_based_recommendations.head(25).plot(kind = \"bar\")"
   ]
  },
  {
   "cell_type": "code",
   "execution_count": 18,
   "metadata": {},
   "outputs": [],
   "source": [
    "product_database=ratings_data.groupby(\"productId\").filter(lambda x:x['Rating'].count() >=500)"
   ]
  },
  {
   "cell_type": "code",
   "execution_count": 19,
   "metadata": {},
   "outputs": [
    {
     "data": {
      "text/html": [
       "<div>\n",
       "<style scoped>\n",
       "    .dataframe tbody tr th:only-of-type {\n",
       "        vertical-align: middle;\n",
       "    }\n",
       "\n",
       "    .dataframe tbody tr th {\n",
       "        vertical-align: top;\n",
       "    }\n",
       "\n",
       "    .dataframe thead th {\n",
       "        text-align: right;\n",
       "    }\n",
       "</style>\n",
       "<table border=\"1\" class=\"dataframe\">\n",
       "  <thead>\n",
       "    <tr style=\"text-align: right;\">\n",
       "      <th></th>\n",
       "      <th>userId</th>\n",
       "      <th>productId</th>\n",
       "      <th>Rating</th>\n",
       "    </tr>\n",
       "  </thead>\n",
       "  <tbody>\n",
       "    <tr>\n",
       "      <th>4190</th>\n",
       "      <td>AEM45GA7TJF8Q</td>\n",
       "      <td>B00005TQI7</td>\n",
       "      <td>5.0</td>\n",
       "    </tr>\n",
       "    <tr>\n",
       "      <th>4191</th>\n",
       "      <td>AGHU1DV26R98T</td>\n",
       "      <td>B00005TQI7</td>\n",
       "      <td>5.0</td>\n",
       "    </tr>\n",
       "    <tr>\n",
       "      <th>4192</th>\n",
       "      <td>A2FOSARZ6AKJ4O</td>\n",
       "      <td>B00005TQI7</td>\n",
       "      <td>5.0</td>\n",
       "    </tr>\n",
       "    <tr>\n",
       "      <th>4193</th>\n",
       "      <td>A348RCUM2SSDCW</td>\n",
       "      <td>B00005TQI7</td>\n",
       "      <td>4.0</td>\n",
       "    </tr>\n",
       "    <tr>\n",
       "      <th>4194</th>\n",
       "      <td>A2OPGDTV2JN8Z3</td>\n",
       "      <td>B00005TQI7</td>\n",
       "      <td>5.0</td>\n",
       "    </tr>\n",
       "    <tr>\n",
       "      <th>4195</th>\n",
       "      <td>A3KNXWG1ZGUWW2</td>\n",
       "      <td>B00005TQI7</td>\n",
       "      <td>4.0</td>\n",
       "    </tr>\n",
       "    <tr>\n",
       "      <th>4196</th>\n",
       "      <td>A3U1IA14RNC59I</td>\n",
       "      <td>B00005TQI7</td>\n",
       "      <td>1.0</td>\n",
       "    </tr>\n",
       "    <tr>\n",
       "      <th>4197</th>\n",
       "      <td>AMPZS9I8LHHG9</td>\n",
       "      <td>B00005TQI7</td>\n",
       "      <td>4.0</td>\n",
       "    </tr>\n",
       "    <tr>\n",
       "      <th>4198</th>\n",
       "      <td>A2GM68OFNAYOEW</td>\n",
       "      <td>B00005TQI7</td>\n",
       "      <td>5.0</td>\n",
       "    </tr>\n",
       "    <tr>\n",
       "      <th>4199</th>\n",
       "      <td>A17DDEVH3YM3NL</td>\n",
       "      <td>B00005TQI7</td>\n",
       "      <td>5.0</td>\n",
       "    </tr>\n",
       "    <tr>\n",
       "      <th>4200</th>\n",
       "      <td>A1K5FOUD9HN2FO</td>\n",
       "      <td>B00005TQI7</td>\n",
       "      <td>4.0</td>\n",
       "    </tr>\n",
       "    <tr>\n",
       "      <th>4201</th>\n",
       "      <td>A1Q6RWP789UPUA</td>\n",
       "      <td>B00005TQI7</td>\n",
       "      <td>5.0</td>\n",
       "    </tr>\n",
       "    <tr>\n",
       "      <th>4202</th>\n",
       "      <td>A14IY7DBKV721J</td>\n",
       "      <td>B00005TQI7</td>\n",
       "      <td>5.0</td>\n",
       "    </tr>\n",
       "    <tr>\n",
       "      <th>4203</th>\n",
       "      <td>A1LMZB94RKRY78</td>\n",
       "      <td>B00005TQI7</td>\n",
       "      <td>5.0</td>\n",
       "    </tr>\n",
       "    <tr>\n",
       "      <th>4204</th>\n",
       "      <td>AFTLY73R6MLQA</td>\n",
       "      <td>B00005TQI7</td>\n",
       "      <td>5.0</td>\n",
       "    </tr>\n",
       "    <tr>\n",
       "      <th>4205</th>\n",
       "      <td>A2QG0KKKVFD2AB</td>\n",
       "      <td>B00005TQI7</td>\n",
       "      <td>5.0</td>\n",
       "    </tr>\n",
       "    <tr>\n",
       "      <th>4206</th>\n",
       "      <td>A38BFW2QWF8QKH</td>\n",
       "      <td>B00005TQI7</td>\n",
       "      <td>4.0</td>\n",
       "    </tr>\n",
       "    <tr>\n",
       "      <th>4207</th>\n",
       "      <td>A9G2OJ4BQGGYU</td>\n",
       "      <td>B00005TQI7</td>\n",
       "      <td>5.0</td>\n",
       "    </tr>\n",
       "    <tr>\n",
       "      <th>4208</th>\n",
       "      <td>A38DCMP2FVBLZW</td>\n",
       "      <td>B00005TQI7</td>\n",
       "      <td>5.0</td>\n",
       "    </tr>\n",
       "    <tr>\n",
       "      <th>4209</th>\n",
       "      <td>A1MCNUATKS34V</td>\n",
       "      <td>B00005TQI7</td>\n",
       "      <td>4.0</td>\n",
       "    </tr>\n",
       "    <tr>\n",
       "      <th>4210</th>\n",
       "      <td>A33TR33M5TYKD8</td>\n",
       "      <td>B00005TQI7</td>\n",
       "      <td>5.0</td>\n",
       "    </tr>\n",
       "    <tr>\n",
       "      <th>4211</th>\n",
       "      <td>A3RIOHLQHR44R6</td>\n",
       "      <td>B00005TQI7</td>\n",
       "      <td>4.0</td>\n",
       "    </tr>\n",
       "    <tr>\n",
       "      <th>4212</th>\n",
       "      <td>A2MPFN3RI220JK</td>\n",
       "      <td>B00005TQI7</td>\n",
       "      <td>4.0</td>\n",
       "    </tr>\n",
       "    <tr>\n",
       "      <th>4213</th>\n",
       "      <td>A2E18J6LHUWPMB</td>\n",
       "      <td>B00005TQI7</td>\n",
       "      <td>5.0</td>\n",
       "    </tr>\n",
       "    <tr>\n",
       "      <th>4214</th>\n",
       "      <td>A1H5EJQF8QKRT3</td>\n",
       "      <td>B00005TQI7</td>\n",
       "      <td>5.0</td>\n",
       "    </tr>\n",
       "    <tr>\n",
       "      <th>4215</th>\n",
       "      <td>A3KOFPXR9MDM5A</td>\n",
       "      <td>B00005TQI7</td>\n",
       "      <td>4.0</td>\n",
       "    </tr>\n",
       "    <tr>\n",
       "      <th>4216</th>\n",
       "      <td>A2AU7ZL8ZGC3F8</td>\n",
       "      <td>B00005TQI7</td>\n",
       "      <td>5.0</td>\n",
       "    </tr>\n",
       "    <tr>\n",
       "      <th>4217</th>\n",
       "      <td>A9W56O1JNZYPA</td>\n",
       "      <td>B00005TQI7</td>\n",
       "      <td>5.0</td>\n",
       "    </tr>\n",
       "    <tr>\n",
       "      <th>4218</th>\n",
       "      <td>A2GCVTKDDOKRRX</td>\n",
       "      <td>B00005TQI7</td>\n",
       "      <td>5.0</td>\n",
       "    </tr>\n",
       "    <tr>\n",
       "      <th>4219</th>\n",
       "      <td>A21CMPZWSQQ1XL</td>\n",
       "      <td>B00005TQI7</td>\n",
       "      <td>5.0</td>\n",
       "    </tr>\n",
       "    <tr>\n",
       "      <th>...</th>\n",
       "      <td>...</td>\n",
       "      <td>...</td>\n",
       "      <td>...</td>\n",
       "    </tr>\n",
       "    <tr>\n",
       "      <th>5500331</th>\n",
       "      <td>A334K3T4CQ9AUS</td>\n",
       "      <td>B00FJ5LI3O</td>\n",
       "      <td>4.0</td>\n",
       "    </tr>\n",
       "    <tr>\n",
       "      <th>5500332</th>\n",
       "      <td>A3BEB215HLC3PL</td>\n",
       "      <td>B00FJ5LI3O</td>\n",
       "      <td>5.0</td>\n",
       "    </tr>\n",
       "    <tr>\n",
       "      <th>5500333</th>\n",
       "      <td>ARLVFHZ704GLJ</td>\n",
       "      <td>B00FJ5LI3O</td>\n",
       "      <td>5.0</td>\n",
       "    </tr>\n",
       "    <tr>\n",
       "      <th>5500334</th>\n",
       "      <td>A29UF4TEV7U4I7</td>\n",
       "      <td>B00FJ5LI3O</td>\n",
       "      <td>5.0</td>\n",
       "    </tr>\n",
       "    <tr>\n",
       "      <th>5500335</th>\n",
       "      <td>AH4YZ1CQTBBLI</td>\n",
       "      <td>B00FJ5LI3O</td>\n",
       "      <td>5.0</td>\n",
       "    </tr>\n",
       "    <tr>\n",
       "      <th>5500336</th>\n",
       "      <td>AUELJFB612MP7</td>\n",
       "      <td>B00FJ5LI3O</td>\n",
       "      <td>2.0</td>\n",
       "    </tr>\n",
       "    <tr>\n",
       "      <th>5500337</th>\n",
       "      <td>A32FROW214ORAV</td>\n",
       "      <td>B00FJ5LI3O</td>\n",
       "      <td>5.0</td>\n",
       "    </tr>\n",
       "    <tr>\n",
       "      <th>5500338</th>\n",
       "      <td>A2P79WZUHHDWY0</td>\n",
       "      <td>B00FJ5LI3O</td>\n",
       "      <td>5.0</td>\n",
       "    </tr>\n",
       "    <tr>\n",
       "      <th>5500339</th>\n",
       "      <td>A1R3JOS83IVY2J</td>\n",
       "      <td>B00FJ5LI3O</td>\n",
       "      <td>5.0</td>\n",
       "    </tr>\n",
       "    <tr>\n",
       "      <th>5500340</th>\n",
       "      <td>A1MZX61KLHJX15</td>\n",
       "      <td>B00FJ5LI3O</td>\n",
       "      <td>5.0</td>\n",
       "    </tr>\n",
       "    <tr>\n",
       "      <th>5500341</th>\n",
       "      <td>A35TH1TNRMQB0X</td>\n",
       "      <td>B00FJ5LI3O</td>\n",
       "      <td>5.0</td>\n",
       "    </tr>\n",
       "    <tr>\n",
       "      <th>5500342</th>\n",
       "      <td>A3JK28182HUU3F</td>\n",
       "      <td>B00FJ5LI3O</td>\n",
       "      <td>4.0</td>\n",
       "    </tr>\n",
       "    <tr>\n",
       "      <th>5500343</th>\n",
       "      <td>A30TSKHM5UYMLL</td>\n",
       "      <td>B00FJ5LI3O</td>\n",
       "      <td>3.0</td>\n",
       "    </tr>\n",
       "    <tr>\n",
       "      <th>5500344</th>\n",
       "      <td>AS8KQJIQLXIBU</td>\n",
       "      <td>B00FJ5LI3O</td>\n",
       "      <td>3.0</td>\n",
       "    </tr>\n",
       "    <tr>\n",
       "      <th>5500345</th>\n",
       "      <td>A2SDDPQMTD6920</td>\n",
       "      <td>B00FJ5LI3O</td>\n",
       "      <td>5.0</td>\n",
       "    </tr>\n",
       "    <tr>\n",
       "      <th>5500346</th>\n",
       "      <td>A1XBUVLSOOI19M</td>\n",
       "      <td>B00FJ5LI3O</td>\n",
       "      <td>5.0</td>\n",
       "    </tr>\n",
       "    <tr>\n",
       "      <th>5500347</th>\n",
       "      <td>A1KHBTFU9IN10I</td>\n",
       "      <td>B00FJ5LI3O</td>\n",
       "      <td>5.0</td>\n",
       "    </tr>\n",
       "    <tr>\n",
       "      <th>5500348</th>\n",
       "      <td>A32H4JMCP87AGT</td>\n",
       "      <td>B00FJ5LI3O</td>\n",
       "      <td>5.0</td>\n",
       "    </tr>\n",
       "    <tr>\n",
       "      <th>5500349</th>\n",
       "      <td>A2DRY6EENIG89</td>\n",
       "      <td>B00FJ5LI3O</td>\n",
       "      <td>4.0</td>\n",
       "    </tr>\n",
       "    <tr>\n",
       "      <th>5500350</th>\n",
       "      <td>A3353S4IDN331E</td>\n",
       "      <td>B00FJ5LI3O</td>\n",
       "      <td>5.0</td>\n",
       "    </tr>\n",
       "    <tr>\n",
       "      <th>5500351</th>\n",
       "      <td>A6GFL23HGJSA2</td>\n",
       "      <td>B00FJ5LI3O</td>\n",
       "      <td>5.0</td>\n",
       "    </tr>\n",
       "    <tr>\n",
       "      <th>5500352</th>\n",
       "      <td>A3KKJGMQ6ECUIQ</td>\n",
       "      <td>B00FJ5LI3O</td>\n",
       "      <td>4.0</td>\n",
       "    </tr>\n",
       "    <tr>\n",
       "      <th>5500353</th>\n",
       "      <td>A3DDT4GG3F076W</td>\n",
       "      <td>B00FJ5LI3O</td>\n",
       "      <td>5.0</td>\n",
       "    </tr>\n",
       "    <tr>\n",
       "      <th>5500354</th>\n",
       "      <td>A18IWYQ27KDWGF</td>\n",
       "      <td>B00FJ5LI3O</td>\n",
       "      <td>3.0</td>\n",
       "    </tr>\n",
       "    <tr>\n",
       "      <th>5500355</th>\n",
       "      <td>A3U8D6WFFMIXNG</td>\n",
       "      <td>B00FJ5LI3O</td>\n",
       "      <td>4.0</td>\n",
       "    </tr>\n",
       "    <tr>\n",
       "      <th>5500356</th>\n",
       "      <td>A2DYSMQD6NRT3D</td>\n",
       "      <td>B00FJ5LI3O</td>\n",
       "      <td>5.0</td>\n",
       "    </tr>\n",
       "    <tr>\n",
       "      <th>5500357</th>\n",
       "      <td>A1MLPX02G3Y3V0</td>\n",
       "      <td>B00FJ5LI3O</td>\n",
       "      <td>1.0</td>\n",
       "    </tr>\n",
       "    <tr>\n",
       "      <th>5500358</th>\n",
       "      <td>A2SZ4VSVJ7C9FS</td>\n",
       "      <td>B00FJ5LI3O</td>\n",
       "      <td>5.0</td>\n",
       "    </tr>\n",
       "    <tr>\n",
       "      <th>5500359</th>\n",
       "      <td>A1L2MXWW5PU0XH</td>\n",
       "      <td>B00FJ5LI3O</td>\n",
       "      <td>5.0</td>\n",
       "    </tr>\n",
       "    <tr>\n",
       "      <th>5500360</th>\n",
       "      <td>A21ZRLWUX5WHUG</td>\n",
       "      <td>B00FJ5LI3O</td>\n",
       "      <td>5.0</td>\n",
       "    </tr>\n",
       "  </tbody>\n",
       "</table>\n",
       "<p>296646 rows × 3 columns</p>\n",
       "</div>"
      ],
      "text/plain": [
       "                 userId   productId  Rating\n",
       "4190      AEM45GA7TJF8Q  B00005TQI7     5.0\n",
       "4191      AGHU1DV26R98T  B00005TQI7     5.0\n",
       "4192     A2FOSARZ6AKJ4O  B00005TQI7     5.0\n",
       "4193     A348RCUM2SSDCW  B00005TQI7     4.0\n",
       "4194     A2OPGDTV2JN8Z3  B00005TQI7     5.0\n",
       "4195     A3KNXWG1ZGUWW2  B00005TQI7     4.0\n",
       "4196     A3U1IA14RNC59I  B00005TQI7     1.0\n",
       "4197      AMPZS9I8LHHG9  B00005TQI7     4.0\n",
       "4198     A2GM68OFNAYOEW  B00005TQI7     5.0\n",
       "4199     A17DDEVH3YM3NL  B00005TQI7     5.0\n",
       "4200     A1K5FOUD9HN2FO  B00005TQI7     4.0\n",
       "4201     A1Q6RWP789UPUA  B00005TQI7     5.0\n",
       "4202     A14IY7DBKV721J  B00005TQI7     5.0\n",
       "4203     A1LMZB94RKRY78  B00005TQI7     5.0\n",
       "4204      AFTLY73R6MLQA  B00005TQI7     5.0\n",
       "4205     A2QG0KKKVFD2AB  B00005TQI7     5.0\n",
       "4206     A38BFW2QWF8QKH  B00005TQI7     4.0\n",
       "4207      A9G2OJ4BQGGYU  B00005TQI7     5.0\n",
       "4208     A38DCMP2FVBLZW  B00005TQI7     5.0\n",
       "4209      A1MCNUATKS34V  B00005TQI7     4.0\n",
       "4210     A33TR33M5TYKD8  B00005TQI7     5.0\n",
       "4211     A3RIOHLQHR44R6  B00005TQI7     4.0\n",
       "4212     A2MPFN3RI220JK  B00005TQI7     4.0\n",
       "4213     A2E18J6LHUWPMB  B00005TQI7     5.0\n",
       "4214     A1H5EJQF8QKRT3  B00005TQI7     5.0\n",
       "4215     A3KOFPXR9MDM5A  B00005TQI7     4.0\n",
       "4216     A2AU7ZL8ZGC3F8  B00005TQI7     5.0\n",
       "4217      A9W56O1JNZYPA  B00005TQI7     5.0\n",
       "4218     A2GCVTKDDOKRRX  B00005TQI7     5.0\n",
       "4219     A21CMPZWSQQ1XL  B00005TQI7     5.0\n",
       "...                 ...         ...     ...\n",
       "5500331  A334K3T4CQ9AUS  B00FJ5LI3O     4.0\n",
       "5500332  A3BEB215HLC3PL  B00FJ5LI3O     5.0\n",
       "5500333   ARLVFHZ704GLJ  B00FJ5LI3O     5.0\n",
       "5500334  A29UF4TEV7U4I7  B00FJ5LI3O     5.0\n",
       "5500335   AH4YZ1CQTBBLI  B00FJ5LI3O     5.0\n",
       "5500336   AUELJFB612MP7  B00FJ5LI3O     2.0\n",
       "5500337  A32FROW214ORAV  B00FJ5LI3O     5.0\n",
       "5500338  A2P79WZUHHDWY0  B00FJ5LI3O     5.0\n",
       "5500339  A1R3JOS83IVY2J  B00FJ5LI3O     5.0\n",
       "5500340  A1MZX61KLHJX15  B00FJ5LI3O     5.0\n",
       "5500341  A35TH1TNRMQB0X  B00FJ5LI3O     5.0\n",
       "5500342  A3JK28182HUU3F  B00FJ5LI3O     4.0\n",
       "5500343  A30TSKHM5UYMLL  B00FJ5LI3O     3.0\n",
       "5500344   AS8KQJIQLXIBU  B00FJ5LI3O     3.0\n",
       "5500345  A2SDDPQMTD6920  B00FJ5LI3O     5.0\n",
       "5500346  A1XBUVLSOOI19M  B00FJ5LI3O     5.0\n",
       "5500347  A1KHBTFU9IN10I  B00FJ5LI3O     5.0\n",
       "5500348  A32H4JMCP87AGT  B00FJ5LI3O     5.0\n",
       "5500349   A2DRY6EENIG89  B00FJ5LI3O     4.0\n",
       "5500350  A3353S4IDN331E  B00FJ5LI3O     5.0\n",
       "5500351   A6GFL23HGJSA2  B00FJ5LI3O     5.0\n",
       "5500352  A3KKJGMQ6ECUIQ  B00FJ5LI3O     4.0\n",
       "5500353  A3DDT4GG3F076W  B00FJ5LI3O     5.0\n",
       "5500354  A18IWYQ27KDWGF  B00FJ5LI3O     3.0\n",
       "5500355  A3U8D6WFFMIXNG  B00FJ5LI3O     4.0\n",
       "5500356  A2DYSMQD6NRT3D  B00FJ5LI3O     5.0\n",
       "5500357  A1MLPX02G3Y3V0  B00FJ5LI3O     1.0\n",
       "5500358  A2SZ4VSVJ7C9FS  B00FJ5LI3O     5.0\n",
       "5500359  A1L2MXWW5PU0XH  B00FJ5LI3O     5.0\n",
       "5500360  A21ZRLWUX5WHUG  B00FJ5LI3O     5.0\n",
       "\n",
       "[296646 rows x 3 columns]"
      ]
     },
     "execution_count": 19,
     "metadata": {},
     "output_type": "execute_result"
    }
   ],
   "source": [
    "product_database"
   ]
  },
  {
   "cell_type": "code",
   "execution_count": 20,
   "metadata": {},
   "outputs": [],
   "source": [
    "ratings_per_product = product_database.groupby(by='productId')['Rating'].count().sort_values(ascending=False)"
   ]
  },
  {
   "cell_type": "code",
   "execution_count": 21,
   "metadata": {},
   "outputs": [
    {
     "data": {
      "image/png": "[encoded data removed]",
      "text/plain": [
       "<Figure size 288x288 with 1 Axes>"
      ]
     },
     "metadata": {
      "needs_background": "light"
     },
     "output_type": "display_data"
    }
   ],
   "source": [
    "\n",
    "figure = plt.figure(figsize=plt.figaspect(1))\n",
    "ax = plt.gca()\n",
    "plt.plot(ratings_per_product.values)\n",
    "plt.title('# RATINGS per Product')\n",
    "plt.xlabel('Products')\n",
    "plt.ylabel('No of ratings per product')\n",
    "ax.set_xticklabels([])\n",
    "\n",
    "plt.show()"
   ]
  },
  {
   "cell_type": "code",
   "execution_count": 22,
   "metadata": {},
   "outputs": [
    {
     "data": {
      "text/plain": [
       "productId\n",
       "B008KK0ZJ8    4.818489\n",
       "B000XPIZPE    4.776824\n",
       "B0013KDS96    4.753469\n",
       "B009ZDEXQK    4.727639\n",
       "B000EIJG0I    4.721457\n",
       "Name: Rating, dtype: float64"
      ]
     },
     "execution_count": 22,
     "metadata": {},
     "output_type": "execute_result"
    }
   ],
   "source": [
    "product_database.groupby('productId')['Rating'].mean().sort_values(ascending=False).head()"
   ]
  },
  {
   "cell_type": "code",
   "execution_count": 23,
   "metadata": {},
   "outputs": [
    {
     "data": {
      "text/html": [
       "<div>\n",
       "<style scoped>\n",
       "    .dataframe tbody tr th:only-of-type {\n",
       "        vertical-align: middle;\n",
       "    }\n",
       "\n",
       "    .dataframe tbody tr th {\n",
       "        vertical-align: top;\n",
       "    }\n",
       "\n",
       "    .dataframe thead th {\n",
       "        text-align: right;\n",
       "    }\n",
       "</style>\n",
       "<table border=\"1\" class=\"dataframe\">\n",
       "  <thead>\n",
       "    <tr style=\"text-align: right;\">\n",
       "      <th></th>\n",
       "      <th>Rating</th>\n",
       "      <th>rating_counts</th>\n",
       "    </tr>\n",
       "    <tr>\n",
       "      <th>productId</th>\n",
       "      <th></th>\n",
       "      <th></th>\n",
       "    </tr>\n",
       "  </thead>\n",
       "  <tbody>\n",
       "    <tr>\n",
       "      <th>B00005TQI7</th>\n",
       "      <td>4.497537</td>\n",
       "      <td>609</td>\n",
       "    </tr>\n",
       "    <tr>\n",
       "      <th>B00006XXGO</th>\n",
       "      <td>4.518791</td>\n",
       "      <td>1224</td>\n",
       "    </tr>\n",
       "    <tr>\n",
       "      <th>B000072UMJ</th>\n",
       "      <td>4.501527</td>\n",
       "      <td>1310</td>\n",
       "    </tr>\n",
       "    <tr>\n",
       "      <th>B000074RL3</th>\n",
       "      <td>4.502783</td>\n",
       "      <td>539</td>\n",
       "    </tr>\n",
       "    <tr>\n",
       "      <th>B000086910</th>\n",
       "      <td>4.009398</td>\n",
       "      <td>532</td>\n",
       "    </tr>\n",
       "  </tbody>\n",
       "</table>\n",
       "</div>"
      ],
      "text/plain": [
       "              Rating  rating_counts\n",
       "productId                          \n",
       "B00005TQI7  4.497537            609\n",
       "B00006XXGO  4.518791           1224\n",
       "B000072UMJ  4.501527           1310\n",
       "B000074RL3  4.502783            539\n",
       "B000086910  4.009398            532"
      ]
     },
     "execution_count": 23,
     "metadata": {},
     "output_type": "execute_result"
    }
   ],
   "source": [
    "mean_ratings = pd.DataFrame(product_database.groupby('productId')['Rating'].mean())\n",
    "mean_ratings['rating_counts'] = pd.DataFrame(product_database.groupby('productId')['Rating'].count())\n",
    "mean_ratings.head()"
   ]
  },
  {
   "cell_type": "code",
   "execution_count": 24,
   "metadata": {},
   "outputs": [
    {
     "data": {
      "text/plain": [
       "<seaborn.axisgrid.JointGrid at 0x21500e894e0>"
      ]
     },
     "execution_count": 24,
     "metadata": {},
     "output_type": "execute_result"
    },
    {
     "data": {
      "text/plain": [
       "<Figure size 720x540 with 0 Axes>"
      ]
     },
     "metadata": {},
     "output_type": "display_data"
    },
    {
     "data": {
      "image/png": "[encoded data removed]",
      "text/plain": [
       "<Figure size 432x432 with 3 Axes>"
      ]
     },
     "metadata": {
      "needs_background": "light"
     },
     "output_type": "display_data"
    }
   ],
   "source": [
    "plt.figure(figsize=(10,7.5))\n",
    "plt.rcParams['patch.force_edgecolor'] = True\n",
    "sns.jointplot(x='Rating', y='rating_counts', data=mean_ratings, alpha=0.5)"
   ]
  },
  {
   "cell_type": "code",
   "execution_count": 25,
   "metadata": {},
   "outputs": [],
   "source": [
    "product_databaseSmall=product_database.sample(frac=0.06)\n",
    "data = Dataset.load_from_df(product_databaseSmall,Reader(rating_scale=(1, 5)))\n",
    "trainset, testset = train_test_split(data, test_size=.30)\n"
   ]
  },
  {
   "cell_type": "code",
   "execution_count": 26,
   "metadata": {},
   "outputs": [
    {
     "name": "stdout",
     "output_type": "stream",
     "text": [
      "Estimating biases using als...\n",
      "Computing the pearson_baseline similarity matrix...\n",
      "Done computing similarity matrix.\n"
     ]
    },
    {
     "data": {
      "text/plain": [
       "12422"
      ]
     },
     "execution_count": 26,
     "metadata": {},
     "output_type": "execute_result"
    }
   ],
   "source": [
    "userusercollaborativefiltering = KNNWithMeans(k=5, sim_options={'name': 'pearson_baseline', 'user_based': True})\n",
    "userusercollaborativefiltering.fit(trainset)\n",
    "trainset.n_users"
   ]
  },
  {
   "cell_type": "code",
   "execution_count": 27,
   "metadata": {},
   "outputs": [
    {
     "name": "stdout",
     "output_type": "stream",
     "text": [
      "User-based Model : Test Set RMSE score\n",
      "RMSE: 1.1545\n"
     ]
    },
    {
     "data": {
      "text/plain": [
       "1.1545361266692833"
      ]
     },
     "execution_count": 27,
     "metadata": {},
     "output_type": "execute_result"
    }
   ],
   "source": [
    "test_pred = userusercollaborativefiltering.test(testset)\n",
    "print(\"User-based Model : Test Set RMSE score\")\n",
    "accuracy.rmse(test_pred, verbose=True)\n",
    "\n"
   ]
  },
  {
   "cell_type": "code",
   "execution_count": 28,
   "metadata": {},
   "outputs": [
    {
     "name": "stdout",
     "output_type": "stream",
     "text": [
      "Estimating biases using als...\n",
      "Computing the pearson_baseline similarity matrix...\n",
      "Done computing similarity matrix.\n"
     ]
    }
   ],
   "source": [
    "itembasedcollaborativefiltering = KNNWithMeans(k=5, sim_options={'name': 'pearson_baseline', 'user_based': False})\n",
    "itembasedcollaborativefiltering.fit(trainset)\n",
    "test_pred_I = itembasedcollaborativefiltering.test(testset)\n"
   ]
  },
  {
   "cell_type": "code",
   "execution_count": 29,
   "metadata": {},
   "outputs": [
    {
     "name": "stdout",
     "output_type": "stream",
     "text": [
      "Item-based Model : Test Set RMSE score\n",
      "RMSE: 1.1545\n"
     ]
    },
    {
     "data": {
      "text/plain": [
       "1.1545093296918238"
      ]
     },
     "execution_count": 29,
     "metadata": {},
     "output_type": "execute_result"
    }
   ],
   "source": [
    "print(\"Item-based Model : Test Set RMSE score\")\n",
    "accuracy.rmse(test_pred_I, verbose=True)"
   ]
  },
  {
   "cell_type": "code",
   "execution_count": 30,
   "metadata": {
    "scrolled": true
   },
   "outputs": [
    {
     "data": {
      "text/html": [
       "<div>\n",
       "<style scoped>\n",
       "    .dataframe tbody tr th:only-of-type {\n",
       "        vertical-align: middle;\n",
       "    }\n",
       "\n",
       "    .dataframe tbody tr th {\n",
       "        vertical-align: top;\n",
       "    }\n",
       "\n",
       "    .dataframe thead th {\n",
       "        text-align: right;\n",
       "    }\n",
       "</style>\n",
       "<table border=\"1\" class=\"dataframe\">\n",
       "  <thead>\n",
       "    <tr style=\"text-align: right;\">\n",
       "      <th>productId</th>\n",
       "      <th>B00005TQI7</th>\n",
       "      <th>B00006XXGO</th>\n",
       "      <th>B000072UMJ</th>\n",
       "      <th>B000074RL3</th>\n",
       "      <th>B000086910</th>\n",
       "      <th>B00009ZM7Z</th>\n",
       "      <th>B0000ANHST</th>\n",
       "      <th>B0000AT7N2</th>\n",
       "      <th>B0000ATP8L</th>\n",
       "      <th>B0000C321X</th>\n",
       "      <th>...</th>\n",
       "      <th>B00BKEQBI0</th>\n",
       "      <th>B00BXH3ZMO</th>\n",
       "      <th>B00CIBCJ62</th>\n",
       "      <th>B00CKGB85I</th>\n",
       "      <th>B00D1MR8YU</th>\n",
       "      <th>B00D86D4L0</th>\n",
       "      <th>B00DNQIIE8</th>\n",
       "      <th>B00DQYNS3I</th>\n",
       "      <th>B00DSV2ESE</th>\n",
       "      <th>B00FJ5LI3O</th>\n",
       "    </tr>\n",
       "    <tr>\n",
       "      <th>userId</th>\n",
       "      <th></th>\n",
       "      <th></th>\n",
       "      <th></th>\n",
       "      <th></th>\n",
       "      <th></th>\n",
       "      <th></th>\n",
       "      <th></th>\n",
       "      <th></th>\n",
       "      <th></th>\n",
       "      <th></th>\n",
       "      <th></th>\n",
       "      <th></th>\n",
       "      <th></th>\n",
       "      <th></th>\n",
       "      <th></th>\n",
       "      <th></th>\n",
       "      <th></th>\n",
       "      <th></th>\n",
       "      <th></th>\n",
       "      <th></th>\n",
       "      <th></th>\n",
       "    </tr>\n",
       "  </thead>\n",
       "  <tbody>\n",
       "    <tr>\n",
       "      <th>A0002696N8BSFGJBGVFN</th>\n",
       "      <td>0</td>\n",
       "      <td>0</td>\n",
       "      <td>0</td>\n",
       "      <td>0</td>\n",
       "      <td>0</td>\n",
       "      <td>0</td>\n",
       "      <td>0</td>\n",
       "      <td>0</td>\n",
       "      <td>0</td>\n",
       "      <td>0</td>\n",
       "      <td>...</td>\n",
       "      <td>0</td>\n",
       "      <td>0</td>\n",
       "      <td>0</td>\n",
       "      <td>0</td>\n",
       "      <td>0</td>\n",
       "      <td>0</td>\n",
       "      <td>0</td>\n",
       "      <td>0</td>\n",
       "      <td>0</td>\n",
       "      <td>0</td>\n",
       "    </tr>\n",
       "    <tr>\n",
       "      <th>A00064201V77I44TYDVC9</th>\n",
       "      <td>0</td>\n",
       "      <td>0</td>\n",
       "      <td>0</td>\n",
       "      <td>0</td>\n",
       "      <td>0</td>\n",
       "      <td>0</td>\n",
       "      <td>0</td>\n",
       "      <td>0</td>\n",
       "      <td>0</td>\n",
       "      <td>0</td>\n",
       "      <td>...</td>\n",
       "      <td>0</td>\n",
       "      <td>0</td>\n",
       "      <td>0</td>\n",
       "      <td>0</td>\n",
       "      <td>0</td>\n",
       "      <td>0</td>\n",
       "      <td>0</td>\n",
       "      <td>0</td>\n",
       "      <td>0</td>\n",
       "      <td>0</td>\n",
       "    </tr>\n",
       "    <tr>\n",
       "      <th>A000979615F1DW010JA4U</th>\n",
       "      <td>0</td>\n",
       "      <td>0</td>\n",
       "      <td>0</td>\n",
       "      <td>0</td>\n",
       "      <td>0</td>\n",
       "      <td>0</td>\n",
       "      <td>0</td>\n",
       "      <td>0</td>\n",
       "      <td>0</td>\n",
       "      <td>0</td>\n",
       "      <td>...</td>\n",
       "      <td>0</td>\n",
       "      <td>0</td>\n",
       "      <td>0</td>\n",
       "      <td>0</td>\n",
       "      <td>0</td>\n",
       "      <td>0</td>\n",
       "      <td>0</td>\n",
       "      <td>0</td>\n",
       "      <td>0</td>\n",
       "      <td>0</td>\n",
       "    </tr>\n",
       "    <tr>\n",
       "      <th>A001114613O3F18Q5NVR6</th>\n",
       "      <td>0</td>\n",
       "      <td>0</td>\n",
       "      <td>0</td>\n",
       "      <td>0</td>\n",
       "      <td>0</td>\n",
       "      <td>0</td>\n",
       "      <td>0</td>\n",
       "      <td>0</td>\n",
       "      <td>0</td>\n",
       "      <td>0</td>\n",
       "      <td>...</td>\n",
       "      <td>0</td>\n",
       "      <td>0</td>\n",
       "      <td>0</td>\n",
       "      <td>0</td>\n",
       "      <td>0</td>\n",
       "      <td>0</td>\n",
       "      <td>0</td>\n",
       "      <td>0</td>\n",
       "      <td>0</td>\n",
       "      <td>0</td>\n",
       "    </tr>\n",
       "    <tr>\n",
       "      <th>A00115942KQCYA4V5THGW</th>\n",
       "      <td>0</td>\n",
       "      <td>0</td>\n",
       "      <td>0</td>\n",
       "      <td>0</td>\n",
       "      <td>0</td>\n",
       "      <td>0</td>\n",
       "      <td>0</td>\n",
       "      <td>0</td>\n",
       "      <td>0</td>\n",
       "      <td>0</td>\n",
       "      <td>...</td>\n",
       "      <td>0</td>\n",
       "      <td>0</td>\n",
       "      <td>0</td>\n",
       "      <td>0</td>\n",
       "      <td>0</td>\n",
       "      <td>0</td>\n",
       "      <td>0</td>\n",
       "      <td>0</td>\n",
       "      <td>0</td>\n",
       "      <td>0</td>\n",
       "    </tr>\n",
       "  </tbody>\n",
       "</table>\n",
       "<p>5 rows × 365 columns</p>\n",
       "</div>"
      ],
      "text/plain": [
       "productId              B00005TQI7  B00006XXGO  B000072UMJ  B000074RL3  \\\n",
       "userId                                                                  \n",
       "A0002696N8BSFGJBGVFN            0           0           0           0   \n",
       "A00064201V77I44TYDVC9           0           0           0           0   \n",
       "A000979615F1DW010JA4U           0           0           0           0   \n",
       "A001114613O3F18Q5NVR6           0           0           0           0   \n",
       "A00115942KQCYA4V5THGW           0           0           0           0   \n",
       "\n",
       "productId              B000086910  B00009ZM7Z  B0000ANHST  B0000AT7N2  \\\n",
       "userId                                                                  \n",
       "A0002696N8BSFGJBGVFN            0           0           0           0   \n",
       "A00064201V77I44TYDVC9           0           0           0           0   \n",
       "A000979615F1DW010JA4U           0           0           0           0   \n",
       "A001114613O3F18Q5NVR6           0           0           0           0   \n",
       "A00115942KQCYA4V5THGW           0           0           0           0   \n",
       "\n",
       "productId              B0000ATP8L  B0000C321X  ...  B00BKEQBI0  B00BXH3ZMO  \\\n",
       "userId                                         ...                           \n",
       "A0002696N8BSFGJBGVFN            0           0  ...           0           0   \n",
       "A00064201V77I44TYDVC9           0           0  ...           0           0   \n",
       "A000979615F1DW010JA4U           0           0  ...           0           0   \n",
       "A001114613O3F18Q5NVR6           0           0  ...           0           0   \n",
       "A00115942KQCYA4V5THGW           0           0  ...           0           0   \n",
       "\n",
       "productId              B00CIBCJ62  B00CKGB85I  B00D1MR8YU  B00D86D4L0  \\\n",
       "userId                                                                  \n",
       "A0002696N8BSFGJBGVFN            0           0           0           0   \n",
       "A00064201V77I44TYDVC9           0           0           0           0   \n",
       "A000979615F1DW010JA4U           0           0           0           0   \n",
       "A001114613O3F18Q5NVR6           0           0           0           0   \n",
       "A00115942KQCYA4V5THGW           0           0           0           0   \n",
       "\n",
       "productId              B00DNQIIE8  B00DQYNS3I  B00DSV2ESE  B00FJ5LI3O  \n",
       "userId                                                                 \n",
       "A0002696N8BSFGJBGVFN            0           0           0           0  \n",
       "A00064201V77I44TYDVC9           0           0           0           0  \n",
       "A000979615F1DW010JA4U           0           0           0           0  \n",
       "A001114613O3F18Q5NVR6           0           0           0           0  \n",
       "A00115942KQCYA4V5THGW           0           0           0           0  \n",
       "\n",
       "[5 rows x 365 columns]"
      ]
     },
     "execution_count": 30,
     "metadata": {},
     "output_type": "execute_result"
    }
   ],
   "source": [
    "collaborative_recommending_matrix = product_database.pivot_table(values='Rating', index='userId', columns='productId', fill_value=0)\n",
    "collaborative_recommending_matrix.head()"
   ]
  },
  {
   "cell_type": "code",
   "execution_count": 31,
   "metadata": {
    "scrolled": true
   },
   "outputs": [
    {
     "data": {
      "text/plain": [
       "(276262, 365)"
      ]
     },
     "execution_count": 31,
     "metadata": {},
     "output_type": "execute_result"
    }
   ],
   "source": [
    "collaborative_recommending_matrix.shape"
   ]
  },
  {
   "cell_type": "code",
   "execution_count": 32,
   "metadata": {},
   "outputs": [
    {
     "data": {
      "text/html": [
       "<div>\n",
       "<style scoped>\n",
       "    .dataframe tbody tr th:only-of-type {\n",
       "        vertical-align: middle;\n",
       "    }\n",
       "\n",
       "    .dataframe tbody tr th {\n",
       "        vertical-align: top;\n",
       "    }\n",
       "\n",
       "    .dataframe thead th {\n",
       "        text-align: right;\n",
       "    }\n",
       "</style>\n",
       "<table border=\"1\" class=\"dataframe\">\n",
       "  <thead>\n",
       "    <tr style=\"text-align: right;\">\n",
       "      <th>userId</th>\n",
       "      <th>A0002696N8BSFGJBGVFN</th>\n",
       "      <th>A00064201V77I44TYDVC9</th>\n",
       "      <th>A000979615F1DW010JA4U</th>\n",
       "      <th>A001114613O3F18Q5NVR6</th>\n",
       "      <th>A00115942KQCYA4V5THGW</th>\n",
       "      <th>A00123503TDGU55J1GVO6</th>\n",
       "      <th>A0015694335OXH5GUHFTH</th>\n",
       "      <th>A00182301XMDX20WTL4DB</th>\n",
       "      <th>A002043023IWSITS68QKB</th>\n",
       "      <th>A00219682P7VSC0F8HLCU</th>\n",
       "      <th>...</th>\n",
       "      <th>AZZT1ERHBSNQ8</th>\n",
       "      <th>AZZTNXCPKZKGZ</th>\n",
       "      <th>AZZTOUKVTUMVM</th>\n",
       "      <th>AZZU6NXB8YJN9</th>\n",
       "      <th>AZZUJP2VVO8A5</th>\n",
       "      <th>AZZVXTYIUGMBH</th>\n",
       "      <th>AZZW5X2SP48SI</th>\n",
       "      <th>AZZW7QHJZP3TY</th>\n",
       "      <th>AZZWQ3PROSDHL</th>\n",
       "      <th>AZZY5UXXCEH60</th>\n",
       "    </tr>\n",
       "    <tr>\n",
       "      <th>productId</th>\n",
       "      <th></th>\n",
       "      <th></th>\n",
       "      <th></th>\n",
       "      <th></th>\n",
       "      <th></th>\n",
       "      <th></th>\n",
       "      <th></th>\n",
       "      <th></th>\n",
       "      <th></th>\n",
       "      <th></th>\n",
       "      <th></th>\n",
       "      <th></th>\n",
       "      <th></th>\n",
       "      <th></th>\n",
       "      <th></th>\n",
       "      <th></th>\n",
       "      <th></th>\n",
       "      <th></th>\n",
       "      <th></th>\n",
       "      <th></th>\n",
       "      <th></th>\n",
       "    </tr>\n",
       "  </thead>\n",
       "  <tbody>\n",
       "    <tr>\n",
       "      <th>B00005TQI7</th>\n",
       "      <td>0</td>\n",
       "      <td>0</td>\n",
       "      <td>0</td>\n",
       "      <td>0</td>\n",
       "      <td>0</td>\n",
       "      <td>0</td>\n",
       "      <td>0</td>\n",
       "      <td>0</td>\n",
       "      <td>0</td>\n",
       "      <td>0</td>\n",
       "      <td>...</td>\n",
       "      <td>0</td>\n",
       "      <td>0</td>\n",
       "      <td>0</td>\n",
       "      <td>0</td>\n",
       "      <td>0</td>\n",
       "      <td>0</td>\n",
       "      <td>0</td>\n",
       "      <td>0</td>\n",
       "      <td>0</td>\n",
       "      <td>0</td>\n",
       "    </tr>\n",
       "    <tr>\n",
       "      <th>B00006XXGO</th>\n",
       "      <td>0</td>\n",
       "      <td>0</td>\n",
       "      <td>0</td>\n",
       "      <td>0</td>\n",
       "      <td>0</td>\n",
       "      <td>0</td>\n",
       "      <td>0</td>\n",
       "      <td>0</td>\n",
       "      <td>0</td>\n",
       "      <td>0</td>\n",
       "      <td>...</td>\n",
       "      <td>0</td>\n",
       "      <td>0</td>\n",
       "      <td>0</td>\n",
       "      <td>0</td>\n",
       "      <td>0</td>\n",
       "      <td>0</td>\n",
       "      <td>0</td>\n",
       "      <td>0</td>\n",
       "      <td>0</td>\n",
       "      <td>0</td>\n",
       "    </tr>\n",
       "    <tr>\n",
       "      <th>B000072UMJ</th>\n",
       "      <td>0</td>\n",
       "      <td>0</td>\n",
       "      <td>0</td>\n",
       "      <td>0</td>\n",
       "      <td>0</td>\n",
       "      <td>0</td>\n",
       "      <td>0</td>\n",
       "      <td>0</td>\n",
       "      <td>0</td>\n",
       "      <td>0</td>\n",
       "      <td>...</td>\n",
       "      <td>0</td>\n",
       "      <td>0</td>\n",
       "      <td>0</td>\n",
       "      <td>0</td>\n",
       "      <td>0</td>\n",
       "      <td>0</td>\n",
       "      <td>0</td>\n",
       "      <td>0</td>\n",
       "      <td>0</td>\n",
       "      <td>0</td>\n",
       "    </tr>\n",
       "    <tr>\n",
       "      <th>B000074RL3</th>\n",
       "      <td>0</td>\n",
       "      <td>0</td>\n",
       "      <td>0</td>\n",
       "      <td>0</td>\n",
       "      <td>0</td>\n",
       "      <td>0</td>\n",
       "      <td>0</td>\n",
       "      <td>0</td>\n",
       "      <td>0</td>\n",
       "      <td>0</td>\n",
       "      <td>...</td>\n",
       "      <td>0</td>\n",
       "      <td>0</td>\n",
       "      <td>0</td>\n",
       "      <td>0</td>\n",
       "      <td>0</td>\n",
       "      <td>0</td>\n",
       "      <td>0</td>\n",
       "      <td>0</td>\n",
       "      <td>0</td>\n",
       "      <td>0</td>\n",
       "    </tr>\n",
       "    <tr>\n",
       "      <th>B000086910</th>\n",
       "      <td>0</td>\n",
       "      <td>0</td>\n",
       "      <td>0</td>\n",
       "      <td>0</td>\n",
       "      <td>0</td>\n",
       "      <td>0</td>\n",
       "      <td>0</td>\n",
       "      <td>0</td>\n",
       "      <td>0</td>\n",
       "      <td>0</td>\n",
       "      <td>...</td>\n",
       "      <td>0</td>\n",
       "      <td>0</td>\n",
       "      <td>0</td>\n",
       "      <td>0</td>\n",
       "      <td>0</td>\n",
       "      <td>0</td>\n",
       "      <td>0</td>\n",
       "      <td>0</td>\n",
       "      <td>0</td>\n",
       "      <td>0</td>\n",
       "    </tr>\n",
       "  </tbody>\n",
       "</table>\n",
       "<p>5 rows × 276262 columns</p>\n",
       "</div>"
      ],
      "text/plain": [
       "userId      A0002696N8BSFGJBGVFN  A00064201V77I44TYDVC9  \\\n",
       "productId                                                 \n",
       "B00005TQI7                     0                      0   \n",
       "B00006XXGO                     0                      0   \n",
       "B000072UMJ                     0                      0   \n",
       "B000074RL3                     0                      0   \n",
       "B000086910                     0                      0   \n",
       "\n",
       "userId      A000979615F1DW010JA4U  A001114613O3F18Q5NVR6  \\\n",
       "productId                                                  \n",
       "B00005TQI7                      0                      0   \n",
       "B00006XXGO                      0                      0   \n",
       "B000072UMJ                      0                      0   \n",
       "B000074RL3                      0                      0   \n",
       "B000086910                      0                      0   \n",
       "\n",
       "userId      A00115942KQCYA4V5THGW  A00123503TDGU55J1GVO6  \\\n",
       "productId                                                  \n",
       "B00005TQI7                      0                      0   \n",
       "B00006XXGO                      0                      0   \n",
       "B000072UMJ                      0                      0   \n",
       "B000074RL3                      0                      0   \n",
       "B000086910                      0                      0   \n",
       "\n",
       "userId      A0015694335OXH5GUHFTH  A00182301XMDX20WTL4DB  \\\n",
       "productId                                                  \n",
       "B00005TQI7                      0                      0   \n",
       "B00006XXGO                      0                      0   \n",
       "B000072UMJ                      0                      0   \n",
       "B000074RL3                      0                      0   \n",
       "B000086910                      0                      0   \n",
       "\n",
       "userId      A002043023IWSITS68QKB  A00219682P7VSC0F8HLCU  ...  AZZT1ERHBSNQ8  \\\n",
       "productId                                                 ...                  \n",
       "B00005TQI7                      0                      0  ...              0   \n",
       "B00006XXGO                      0                      0  ...              0   \n",
       "B000072UMJ                      0                      0  ...              0   \n",
       "B000074RL3                      0                      0  ...              0   \n",
       "B000086910                      0                      0  ...              0   \n",
       "\n",
       "userId      AZZTNXCPKZKGZ  AZZTOUKVTUMVM  AZZU6NXB8YJN9  AZZUJP2VVO8A5  \\\n",
       "productId                                                                \n",
       "B00005TQI7              0              0              0              0   \n",
       "B00006XXGO              0              0              0              0   \n",
       "B000072UMJ              0              0              0              0   \n",
       "B000074RL3              0              0              0              0   \n",
       "B000086910              0              0              0              0   \n",
       "\n",
       "userId      AZZVXTYIUGMBH  AZZW5X2SP48SI  AZZW7QHJZP3TY  AZZWQ3PROSDHL  \\\n",
       "productId                                                                \n",
       "B00005TQI7              0              0              0              0   \n",
       "B00006XXGO              0              0              0              0   \n",
       "B000072UMJ              0              0              0              0   \n",
       "B000074RL3              0              0              0              0   \n",
       "B000086910              0              0              0              0   \n",
       "\n",
       "userId      AZZY5UXXCEH60  \n",
       "productId                  \n",
       "B00005TQI7              0  \n",
       "B00006XXGO              0  \n",
       "B000072UMJ              0  \n",
       "B000074RL3              0  \n",
       "B000086910              0  \n",
       "\n",
       "[5 rows x 276262 columns]"
      ]
     },
     "execution_count": 32,
     "metadata": {},
     "output_type": "execute_result"
    }
   ],
   "source": [
    "product_based_matrix = collaborative_recommending_matrix.T\n",
    "product_based_matrix.head()"
   ]
  },
  {
   "cell_type": "code",
   "execution_count": 33,
   "metadata": {},
   "outputs": [
    {
     "data": {
      "text/plain": [
       "(365, 10)"
      ]
     },
     "execution_count": 33,
     "metadata": {},
     "output_type": "execute_result"
    }
   ],
   "source": [
    "SVD = TruncatedSVD(n_components=10)\n",
    "reduced_matrix = SVD.fit_transform(product_based_matrix)\n",
    "reduced_matrix.shape"
   ]
  },
  {
   "cell_type": "code",
   "execution_count": 34,
   "metadata": {},
   "outputs": [
    {
     "data": {
      "text/plain": [
       "(365, 365)"
      ]
     },
     "execution_count": 34,
     "metadata": {},
     "output_type": "execute_result"
    }
   ],
   "source": [
    "correlation_data = np.corrcoef(reduced_matrix)\n",
    "correlation_data.shape"
   ]
  },
  {
   "cell_type": "code",
   "execution_count": 35,
   "metadata": {},
   "outputs": [
    {
     "data": {
      "text/plain": [
       "'B0006LMBJ6'"
      ]
     },
     "execution_count": 35,
     "metadata": {},
     "output_type": "execute_result"
    }
   ],
   "source": [
    "product_based_matrix.index[24]"
   ]
  },
  {
   "cell_type": "code",
   "execution_count": 36,
   "metadata": {},
   "outputs": [
    {
     "data": {
      "text/plain": [
       "24"
      ]
     },
     "execution_count": 36,
     "metadata": {},
     "output_type": "execute_result"
    }
   ],
   "source": [
    "i = product_based_matrix.index[24]\n",
    "\n",
    "product_names = list(product_based_matrix.index)\n",
    "product_ID = product_names.index(i)\n",
    "product_ID\n"
   ]
  },
  {
   "cell_type": "code",
   "execution_count": 37,
   "metadata": {},
   "outputs": [
    {
     "data": {
      "text/plain": [
       "(365,)"
      ]
     },
     "execution_count": 37,
     "metadata": {},
     "output_type": "execute_result"
    }
   ],
   "source": [
    "correlation_product_ID = correlation_data[product_ID]\n",
    "correlation_product_ID.shape"
   ]
  },
  {
   "cell_type": "code",
   "execution_count": 38,
   "metadata": {
    "scrolled": true
   },
   "outputs": [
    {
     "data": {
      "text/plain": [
       "['B0000C321X',\n",
       " 'B00016QOTE',\n",
       " 'B0006LJLMG',\n",
       " 'B00075ZYRW',\n",
       " 'B0007TLLAC',\n",
       " 'B000AM9W5W',\n",
       " 'B000EX15NY',\n",
       " 'B000H8250S',\n",
       " 'B000IWNNNG']"
      ]
     },
     "execution_count": 38,
     "metadata": {},
     "output_type": "execute_result"
    }
   ],
   "source": [
    "Recommend = list(product_based_matrix.index[correlation_product_ID > 0.80])\n",
    "\n",
    "\n",
    "Recommend.remove(i) \n",
    "\n",
    "Recommend[0:9]"
   ]
  },
  {
   "cell_type": "code",
   "execution_count": null,
   "metadata": {},
   "outputs": [],
   "source": []
  },
  {
   "cell_type": "code",
   "execution_count": 39,
   "metadata": {},
   "outputs": [],
   "source": [
    "ratings_dataSmall=product_database.sample(frac=0.06)\n"
   ]
  },
  {
   "cell_type": "code",
   "execution_count": 40,
   "metadata": {},
   "outputs": [],
   "source": [
    "ratings_per_user = ratings_dataSmall.groupby(by='userId')['Rating'].count().sort_values(ascending=False)"
   ]
  },
  {
   "cell_type": "code",
   "execution_count": 41,
   "metadata": {},
   "outputs": [
    {
     "data": {
      "text/html": [
       "<div>\n",
       "<style scoped>\n",
       "    .dataframe tbody tr th:only-of-type {\n",
       "        vertical-align: middle;\n",
       "    }\n",
       "\n",
       "    .dataframe tbody tr th {\n",
       "        vertical-align: top;\n",
       "    }\n",
       "\n",
       "    .dataframe thead th {\n",
       "        text-align: right;\n",
       "    }\n",
       "</style>\n",
       "<table border=\"1\" class=\"dataframe\">\n",
       "  <thead>\n",
       "    <tr style=\"text-align: right;\">\n",
       "      <th>productId</th>\n",
       "      <th>B00005TQI7</th>\n",
       "      <th>B00006XXGO</th>\n",
       "      <th>B000072UMJ</th>\n",
       "      <th>B000074RL3</th>\n",
       "      <th>B000086910</th>\n",
       "      <th>B00009ZM7Z</th>\n",
       "      <th>B0000ANHST</th>\n",
       "      <th>B0000AT7N2</th>\n",
       "      <th>B0000ATP8L</th>\n",
       "      <th>B0000C321X</th>\n",
       "      <th>...</th>\n",
       "      <th>B00BKEQBI0</th>\n",
       "      <th>B00BXH3ZMO</th>\n",
       "      <th>B00CIBCJ62</th>\n",
       "      <th>B00CKGB85I</th>\n",
       "      <th>B00D1MR8YU</th>\n",
       "      <th>B00D86D4L0</th>\n",
       "      <th>B00DNQIIE8</th>\n",
       "      <th>B00DQYNS3I</th>\n",
       "      <th>B00DSV2ESE</th>\n",
       "      <th>B00FJ5LI3O</th>\n",
       "    </tr>\n",
       "    <tr>\n",
       "      <th>userId</th>\n",
       "      <th></th>\n",
       "      <th></th>\n",
       "      <th></th>\n",
       "      <th></th>\n",
       "      <th></th>\n",
       "      <th></th>\n",
       "      <th></th>\n",
       "      <th></th>\n",
       "      <th></th>\n",
       "      <th></th>\n",
       "      <th></th>\n",
       "      <th></th>\n",
       "      <th></th>\n",
       "      <th></th>\n",
       "      <th></th>\n",
       "      <th></th>\n",
       "      <th></th>\n",
       "      <th></th>\n",
       "      <th></th>\n",
       "      <th></th>\n",
       "      <th></th>\n",
       "    </tr>\n",
       "  </thead>\n",
       "  <tbody>\n",
       "    <tr>\n",
       "      <th>A00590123HW83CNCT1MB3</th>\n",
       "      <td>0</td>\n",
       "      <td>0</td>\n",
       "      <td>0</td>\n",
       "      <td>0</td>\n",
       "      <td>0</td>\n",
       "      <td>0</td>\n",
       "      <td>0</td>\n",
       "      <td>0</td>\n",
       "      <td>0</td>\n",
       "      <td>0</td>\n",
       "      <td>...</td>\n",
       "      <td>0</td>\n",
       "      <td>0</td>\n",
       "      <td>0</td>\n",
       "      <td>0</td>\n",
       "      <td>0</td>\n",
       "      <td>0</td>\n",
       "      <td>0</td>\n",
       "      <td>0</td>\n",
       "      <td>0</td>\n",
       "      <td>0</td>\n",
       "    </tr>\n",
       "    <tr>\n",
       "      <th>A01066271PWQSTR000IPB</th>\n",
       "      <td>0</td>\n",
       "      <td>0</td>\n",
       "      <td>0</td>\n",
       "      <td>0</td>\n",
       "      <td>0</td>\n",
       "      <td>0</td>\n",
       "      <td>0</td>\n",
       "      <td>0</td>\n",
       "      <td>0</td>\n",
       "      <td>0</td>\n",
       "      <td>...</td>\n",
       "      <td>0</td>\n",
       "      <td>0</td>\n",
       "      <td>0</td>\n",
       "      <td>0</td>\n",
       "      <td>0</td>\n",
       "      <td>0</td>\n",
       "      <td>0</td>\n",
       "      <td>0</td>\n",
       "      <td>0</td>\n",
       "      <td>0</td>\n",
       "    </tr>\n",
       "    <tr>\n",
       "      <th>A01436822TELLEBAH0FTC</th>\n",
       "      <td>0</td>\n",
       "      <td>0</td>\n",
       "      <td>0</td>\n",
       "      <td>0</td>\n",
       "      <td>0</td>\n",
       "      <td>0</td>\n",
       "      <td>0</td>\n",
       "      <td>0</td>\n",
       "      <td>0</td>\n",
       "      <td>0</td>\n",
       "      <td>...</td>\n",
       "      <td>0</td>\n",
       "      <td>0</td>\n",
       "      <td>0</td>\n",
       "      <td>0</td>\n",
       "      <td>0</td>\n",
       "      <td>0</td>\n",
       "      <td>0</td>\n",
       "      <td>0</td>\n",
       "      <td>0</td>\n",
       "      <td>0</td>\n",
       "    </tr>\n",
       "    <tr>\n",
       "      <th>A01482403SGWXJTNY5KVT</th>\n",
       "      <td>0</td>\n",
       "      <td>0</td>\n",
       "      <td>0</td>\n",
       "      <td>0</td>\n",
       "      <td>0</td>\n",
       "      <td>0</td>\n",
       "      <td>0</td>\n",
       "      <td>0</td>\n",
       "      <td>0</td>\n",
       "      <td>0</td>\n",
       "      <td>...</td>\n",
       "      <td>0</td>\n",
       "      <td>0</td>\n",
       "      <td>0</td>\n",
       "      <td>0</td>\n",
       "      <td>0</td>\n",
       "      <td>0</td>\n",
       "      <td>0</td>\n",
       "      <td>5</td>\n",
       "      <td>0</td>\n",
       "      <td>0</td>\n",
       "    </tr>\n",
       "    <tr>\n",
       "      <th>A0173254HVCTLCWOCH47</th>\n",
       "      <td>0</td>\n",
       "      <td>0</td>\n",
       "      <td>0</td>\n",
       "      <td>0</td>\n",
       "      <td>0</td>\n",
       "      <td>0</td>\n",
       "      <td>0</td>\n",
       "      <td>0</td>\n",
       "      <td>0</td>\n",
       "      <td>0</td>\n",
       "      <td>...</td>\n",
       "      <td>0</td>\n",
       "      <td>0</td>\n",
       "      <td>0</td>\n",
       "      <td>0</td>\n",
       "      <td>0</td>\n",
       "      <td>0</td>\n",
       "      <td>0</td>\n",
       "      <td>0</td>\n",
       "      <td>0</td>\n",
       "      <td>0</td>\n",
       "    </tr>\n",
       "  </tbody>\n",
       "</table>\n",
       "<p>5 rows × 365 columns</p>\n",
       "</div>"
      ],
      "text/plain": [
       "productId              B00005TQI7  B00006XXGO  B000072UMJ  B000074RL3  \\\n",
       "userId                                                                  \n",
       "A00590123HW83CNCT1MB3           0           0           0           0   \n",
       "A01066271PWQSTR000IPB           0           0           0           0   \n",
       "A01436822TELLEBAH0FTC           0           0           0           0   \n",
       "A01482403SGWXJTNY5KVT           0           0           0           0   \n",
       "A0173254HVCTLCWOCH47            0           0           0           0   \n",
       "\n",
       "productId              B000086910  B00009ZM7Z  B0000ANHST  B0000AT7N2  \\\n",
       "userId                                                                  \n",
       "A00590123HW83CNCT1MB3           0           0           0           0   \n",
       "A01066271PWQSTR000IPB           0           0           0           0   \n",
       "A01436822TELLEBAH0FTC           0           0           0           0   \n",
       "A01482403SGWXJTNY5KVT           0           0           0           0   \n",
       "A0173254HVCTLCWOCH47            0           0           0           0   \n",
       "\n",
       "productId              B0000ATP8L  B0000C321X  ...  B00BKEQBI0  B00BXH3ZMO  \\\n",
       "userId                                         ...                           \n",
       "A00590123HW83CNCT1MB3           0           0  ...           0           0   \n",
       "A01066271PWQSTR000IPB           0           0  ...           0           0   \n",
       "A01436822TELLEBAH0FTC           0           0  ...           0           0   \n",
       "A01482403SGWXJTNY5KVT           0           0  ...           0           0   \n",
       "A0173254HVCTLCWOCH47            0           0  ...           0           0   \n",
       "\n",
       "productId              B00CIBCJ62  B00CKGB85I  B00D1MR8YU  B00D86D4L0  \\\n",
       "userId                                                                  \n",
       "A00590123HW83CNCT1MB3           0           0           0           0   \n",
       "A01066271PWQSTR000IPB           0           0           0           0   \n",
       "A01436822TELLEBAH0FTC           0           0           0           0   \n",
       "A01482403SGWXJTNY5KVT           0           0           0           0   \n",
       "A0173254HVCTLCWOCH47            0           0           0           0   \n",
       "\n",
       "productId              B00DNQIIE8  B00DQYNS3I  B00DSV2ESE  B00FJ5LI3O  \n",
       "userId                                                                 \n",
       "A00590123HW83CNCT1MB3           0           0           0           0  \n",
       "A01066271PWQSTR000IPB           0           0           0           0  \n",
       "A01436822TELLEBAH0FTC           0           0           0           0  \n",
       "A01482403SGWXJTNY5KVT           0           5           0           0  \n",
       "A0173254HVCTLCWOCH47            0           0           0           0  \n",
       "\n",
       "[5 rows x 365 columns]"
      ]
     },
     "execution_count": 41,
     "metadata": {},
     "output_type": "execute_result"
    }
   ],
   "source": [
    "collaborative_recommending_matrix_user = ratings_dataSmall.pivot_table(values='Rating', index='userId', columns='productId', fill_value=0)\n",
    "collaborative_recommending_matrix_user.head()"
   ]
  },
  {
   "cell_type": "code",
   "execution_count": 42,
   "metadata": {},
   "outputs": [
    {
     "data": {
      "text/plain": [
       "(17714, 10)"
      ]
     },
     "execution_count": 42,
     "metadata": {},
     "output_type": "execute_result"
    }
   ],
   "source": [
    "SVD = TruncatedSVD(n_components=10)\n",
    "reduced_matrix = SVD.fit_transform(collaborative_recommending_matrix_user)\n",
    "reduced_matrix.shape"
   ]
  },
  {
   "cell_type": "code",
   "execution_count": 43,
   "metadata": {},
   "outputs": [
    {
     "data": {
      "text/plain": [
       "(17714, 17714)"
      ]
     },
     "execution_count": 43,
     "metadata": {},
     "output_type": "execute_result"
    }
   ],
   "source": [
    "correlation_data = np.corrcoef(reduced_matrix)\n",
    "correlation_data.shape"
   ]
  },
  {
   "cell_type": "code",
   "execution_count": 44,
   "metadata": {},
   "outputs": [
    {
     "data": {
      "text/plain": [
       "'A12HVLD8WU9DTY'"
      ]
     },
     "execution_count": 44,
     "metadata": {},
     "output_type": "execute_result"
    }
   ],
   "source": [
    "collaborative_recommending_matrix_user.index[371]"
   ]
  },
  {
   "cell_type": "code",
   "execution_count": 45,
   "metadata": {},
   "outputs": [
    {
     "data": {
      "text/plain": [
       "371"
      ]
     },
     "execution_count": 45,
     "metadata": {},
     "output_type": "execute_result"
    }
   ],
   "source": [
    "i = collaborative_recommending_matrix_user.index[371]\n",
    "\n",
    "user_names = list(collaborative_recommending_matrix_user.index)\n",
    "user_ID = user_names.index(i)\n",
    "user_ID\n"
   ]
  },
  {
   "cell_type": "code",
   "execution_count": 46,
   "metadata": {},
   "outputs": [
    {
     "data": {
      "text/plain": [
       "(17714,)"
      ]
     },
     "execution_count": 46,
     "metadata": {},
     "output_type": "execute_result"
    }
   ],
   "source": [
    "correlation_product_ID = correlation_data[user_ID]\n",
    "correlation_product_ID.shape"
   ]
  },
  {
   "cell_type": "code",
   "execution_count": 47,
   "metadata": {},
   "outputs": [
    {
     "data": {
      "text/plain": [
       "['A0328927TA7ECTIKNP3G',\n",
       " 'A08748892QXO6QJQTXBRF',\n",
       " 'A100BBI8VQC4A7',\n",
       " 'A109B6GD3EDGCR',\n",
       " 'A10A2ZTH8JB9MI',\n",
       " 'A10HZKLCC9TW8N',\n",
       " 'A10JX9VZ2C46F3',\n",
       " 'A11CAZ1CEJGLT4',\n",
       " 'A11E0BBBATTVPC']"
      ]
     },
     "execution_count": 47,
     "metadata": {},
     "output_type": "execute_result"
    }
   ],
   "source": [
    "Recommend = list(collaborative_recommending_matrix_user.index[correlation_product_ID > 0.80])\n",
    "\n",
    "\n",
    "Recommend.remove(i) \n",
    "\n",
    "Recommend[0:9]"
   ]
  },
  {
   "cell_type": "code",
   "execution_count": 48,
   "metadata": {},
   "outputs": [
    {
     "name": "stdout",
     "output_type": "stream",
     "text": [
      "B003U77NN2\n",
      "B004Z1CZDK\n",
      "B004M6UDC8\n",
      "B004WJBZ54\n",
      "B004Z1CZDK\n",
      "B007NLX16O\n"
     ]
    }
   ],
   "source": [
    "list1=[]\n",
    "list2=[]\n",
    "for index,row in ratings_dataSmall.iterrows():\n",
    "    if row['userId'] in Recommend[0:9]:\n",
    "        list1.append(row['productId'])\n",
    "for index,row in ratings_dataSmall.iterrows():\n",
    "    if row['userId']==collaborative_recommending_matrix_user.index[371]:\n",
    "        list2.append(row['productId'])\n",
    "\n",
    "for item in list1:\n",
    "    if item not in list2:\n",
    "        print(item)"
   ]
  },
  {
   "cell_type": "code",
   "execution_count": null,
   "metadata": {},
   "outputs": [],
   "source": []
  },
  {
   "cell_type": "code",
   "execution_count": null,
   "metadata": {},
   "outputs": [],
   "source": []
  },
  {
   "cell_type": "code",
   "execution_count": null,
   "metadata": {},
   "outputs": [],
   "source": []
  },
  {
   "cell_type": "code",
   "execution_count": null,
   "metadata": {},
   "outputs": [],
   "source": []
  },
  {
   "cell_type": "code",
   "execution_count": null,
   "metadata": {},
   "outputs": [],
   "source": []
  },
  {
   "cell_type": "code",
   "execution_count": null,
   "metadata": {},
   "outputs": [],
   "source": []
  },
  {
   "cell_type": "code",
   "execution_count": null,
   "metadata": {},
   "outputs": [],
   "source": []
  },
  {
   "cell_type": "code",
   "execution_count": null,
   "metadata": {},
   "outputs": [],
   "source": []
  }
 ],
 "metadata": {
  "kernelspec": {
   "display_name": "Python 3",
   "language": "python",
   "name": "python3"
  },
  "language_info": {
   "codemirror_mode": {
    "name": "ipython",
    "version": 3
   },
   "file_extension": ".py",
   "mimetype": "text/x-python",
   "name": "python",
   "nbconvert_exporter": "python",
   "pygments_lexer": "ipython3",
   "version": "3.7.3"
  }
 },
 "nbformat": 4,
 "nbformat_minor": 4
}
